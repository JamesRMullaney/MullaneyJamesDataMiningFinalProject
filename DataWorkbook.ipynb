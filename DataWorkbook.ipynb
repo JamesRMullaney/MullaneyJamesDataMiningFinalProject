{
 "cells": [
  {
   "cell_type": "code",
   "execution_count": 1,
   "metadata": {},
   "outputs": [],
   "source": [
    "import pandas as pd"
   ]
  },
  {
   "cell_type": "code",
   "execution_count": 19,
   "metadata": {},
   "outputs": [
    {
     "name": "stdout",
     "output_type": "stream",
     "text": [
      "                Team    FG   FGA    3P   3PA    2P   2PA    FT   FTA   ORB  \\\n",
      "0      Atlanta Hawks  41.2  88.8  12.9  34.6  28.3  54.2  20.2  24.9  10.9   \n",
      "1     Boston Celtics  42.2  89.9  13.4  35.9  28.7  54.0  16.5  21.4  11.0   \n",
      "2      Brooklyn Nets  43.1  87.3  14.1  36.1  29.0  51.2  17.9  22.3   9.0   \n",
      "3  Charlotte Hornets  40.4  88.1  14.0  37.0  26.4  51.1  16.6  21.4  10.5   \n",
      "4      Chicago Bulls  42.3  88.1  12.3  33.2  30.0  54.9  14.7  18.3   9.5   \n",
      "\n",
      "    DRB   TRB   AST  STL  BLK   TOV    PF    PTS  \n",
      "0  35.3  46.2  24.8  7.0  4.9  13.7  20.0  115.5  \n",
      "1  33.9  44.8  23.6  8.0  5.4  14.3  20.9  114.2  \n",
      "2  35.1  44.0  26.6  6.6  5.2  13.7  19.0  118.1  \n",
      "3  33.8  44.3  27.0  8.1  4.8  15.5  18.1  111.4  \n",
      "4  34.9  44.4  26.4  6.6  4.3  15.5  19.1  111.7  \n",
      "                Team    FG   FGA    3P   3PA    2P   2PA    FT   FTA   ORB  \\\n",
      "0      Atlanta Hawks  41.2  88.8  12.9  34.6  28.3  54.2  20.2  24.9  10.9   \n",
      "1     Boston Celtics  42.2  89.9  13.4  35.9  28.7  54.0  16.5  21.4  11.0   \n",
      "2      Brooklyn Nets  43.1  87.3  14.1  36.1  29.0  51.2  17.9  22.3   9.0   \n",
      "3  Charlotte Hornets  40.4  88.1  14.0  37.0  26.4  51.1  16.6  21.4  10.5   \n",
      "4      Chicago Bulls  42.3  88.1  12.3  33.2  30.0  54.9  14.7  18.3   9.5   \n",
      "\n",
      "    DRB   TRB   AST  STL  BLK   TOV    PF    PTS  \n",
      "0  35.3  46.2  24.8  7.0  4.9  13.7  20.0  115.5  \n",
      "1  33.9  44.8  23.6  8.0  5.4  14.3  20.9  114.2  \n",
      "2  35.1  44.0  26.6  6.6  5.2  13.7  19.0  118.1  \n",
      "3  33.8  44.3  27.0  8.1  4.8  15.5  18.1  111.4  \n",
      "4  34.9  44.4  26.4  6.6  4.3  15.5  19.1  111.7  \n",
      "                Team    FG   FGA    3P   3PA    2P   2PA    FT   FTA   ORB  \\\n",
      "0      Atlanta Hawks  41.2  88.8  12.9  34.6  28.3  54.2  20.2  24.9  10.9   \n",
      "1     Boston Celtics  42.2  89.9  13.4  35.9  28.7  54.0  16.5  21.4  11.0   \n",
      "2      Brooklyn Nets  43.1  87.3  14.1  36.1  29.0  51.2  17.9  22.3   9.0   \n",
      "3  Charlotte Hornets  40.4  88.1  14.0  37.0  26.4  51.1  16.6  21.4  10.5   \n",
      "4      Chicago Bulls  42.3  88.1  12.3  33.2  30.0  54.9  14.7  18.3   9.5   \n",
      "\n",
      "    DRB   TRB   AST  STL  BLK   TOV    PF    PTS  \n",
      "0  35.3  46.2  24.8  7.0  4.9  13.7  20.0  115.5  \n",
      "1  33.9  44.8  23.6  8.0  5.4  14.3  20.9  114.2  \n",
      "2  35.1  44.0  26.6  6.6  5.2  13.7  19.0  118.1  \n",
      "3  33.8  44.3  27.0  8.1  4.8  15.5  18.1  111.4  \n",
      "4  34.9  44.4  26.4  6.6  4.3  15.5  19.1  111.7  \n"
     ]
    }
   ],
   "source": [
    "offStats = pd.read_csv(r\"C:\\Users\\James\\Documents\\GitHub\\MullaneyJamesDataMiningFinalProject\\StatsFiles\\NBA2021OffSeasonStats.csv\")\n",
    "defStats = pd.read_csv(r\"C:\\Users\\James\\Documents\\GitHub\\MullaneyJamesDataMiningFinalProject\\StatsFiles\\NBA2021OffSeasonStats.csv\")\n",
    "miscStats = pd.read_csv(r\"C:\\Users\\James\\Documents\\GitHub\\MullaneyJamesDataMiningFinalProject\\StatsFiles\\NBA2021OffSeasonStats.csv\")\n",
    "print(offStats.head())\n",
    "print(defStats.head())\n",
    "print(miscStats.head())"
   ]
  },
  {
   "cell_type": "code",
   "execution_count": null,
   "metadata": {},
   "outputs": [],
   "source": []
  }
 ],
 "metadata": {
  "kernelspec": {
   "display_name": "Python 3",
   "language": "python",
   "name": "python3"
  },
  "language_info": {
   "codemirror_mode": {
    "name": "ipython",
    "version": 3
   },
   "file_extension": ".py",
   "mimetype": "text/x-python",
   "name": "python",
   "nbconvert_exporter": "python",
   "pygments_lexer": "ipython3",
   "version": "3.8.5"
  }
 },
 "nbformat": 4,
 "nbformat_minor": 4
}
