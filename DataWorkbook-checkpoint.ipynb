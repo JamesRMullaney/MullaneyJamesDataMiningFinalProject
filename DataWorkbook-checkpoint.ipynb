{
 "cells": [
  {
   "cell_type": "code",
   "execution_count": 4,
   "metadata": {},
   "outputs": [],
   "source": [
    "# allow me to read CSV files\n",
    "import pandas as pd\n",
    "\n",
    "# visualize data\n",
    "import seaborn as sns\n",
    "import matplotlib.pyplot as plt"
   ]
  },
  {
   "cell_type": "code",
   "execution_count": 6,
   "metadata": {},
   "outputs": [],
   "source": [
    "# Read data from csv files\n",
    "offStats = pd.read_csv(r\"C:\\Users\\James\\Documents\\GitHub\\MullaneyJamesDataMiningFinalProject\\StatsFiles\\NBA2021OffSeasonStats.csv\")\n",
    "defStats = pd.read_csv(r\"C:\\Users\\James\\Documents\\GitHub\\MullaneyJamesDataMiningFinalProject\\StatsFiles\\NBA2021DefSeasonStats.csv\")\n",
    "miscStats = pd.read_csv(r\"C:\\Users\\James\\Documents\\GitHub\\MullaneyJamesDataMiningFinalProject\\StatsFiles\\NBA2021MiscSeasonStats.csv\")"
   ]
  },
  {
   "cell_type": "code",
   "execution_count": 14,
   "metadata": {},
   "outputs": [
    {
     "data": {
      "text/plain": [
       "<AxesSubplot:>"
      ]
     },
     "execution_count": 14,
     "metadata": {},
     "output_type": "execute_result"
    },
    {
     "data": {
      "image/png": "[encoded data removed]",
      "text/plain": [
       "<Figure size 432x288 with 2 Axes>"
      ]
     },
     "metadata": {
      "needs_background": "light"
     },
     "output_type": "display_data"
    }
   ],
   "source": [
    "corr = miscStats.corr()\n",
    "sns.heatmap(corr, \n",
    "        xticklabels=corr.columns,\n",
    "        yticklabels=corr.columns)"
   ]
  },
  {
   "cell_type": "code",
   "execution_count": null,
   "metadata": {},
   "outputs": [],
   "source": []
  }
 ],
 "metadata": {
  "kernelspec": {
   "display_name": "Python 3",
   "language": "python",
   "name": "python3"
  },
  "language_info": {
   "codemirror_mode": {
    "name": "ipython",
    "version": 3
   },
   "file_extension": ".py",
   "mimetype": "text/x-python",
   "name": "python",
   "nbconvert_exporter": "python",
   "pygments_lexer": "ipython3",
   "version": "3.8.5"
  }
 },
 "nbformat": 4,
 "nbformat_minor": 4
}
